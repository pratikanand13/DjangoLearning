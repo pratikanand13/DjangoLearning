{
 "cells": [
  {
   "cell_type": "code",
   "execution_count": null,
   "id": "430b681c-ea71-4f82-a964-02aef9e3b3d4",
   "metadata": {},
   "outputs": [],
   "source": [
    "from sklearn.datasets import load_iris\n",
    "import pandas as pd\n",
    "from sklearn.model_selection import train_test_split\n",
    "from sklearn.ensemble import RandomForestClassifier\n",
    "from sklearn.metrics import accuracy_score\n",
    "from joblib import dump\n",
    "import os\n",
    "\n",
    "# Load the Iris dataset\n",
    "data = load_iris()\n",
    "X_data = pd.DataFrame(data.data, columns=data.feature_names)\n",
    "y_data = pd.Series(data=data.target, name='Targets')\n",
    "\n",
    "# Split the dataset into training and testing sets\n",
    "X_train, X_test, y_train, y_test = train_test_split(X_data, y_data, test_size=0.2)\n",
    "\n",
    "# Create and train the Random Forest classifier\n",
    "model = RandomForestClassifier()\n",
    "model.fit(X_train, y_train)\n",
    "\n",
    "dump(model, \"abc.joblib\")\n",
    "# # Make predictions on the test data\n",
    "# y_pred = model.predict(X_test)\n",
    "\n",
    "# # Calculate the accuracy score\n",
    "# accuracy = accuracy_score(y_test, y_pred)\n",
    "\n",
    "# # Specify the directory and filename\n",
    "# directory = './savedModels'\n",
    "# filename = 'accuracy_score.txt'\n",
    "\n",
    "# # Create the directory if it doesn't exist\n",
    "# if not os.path.exists(directory):\n",
    "#     os.makedirs(directory)\n",
    "\n",
    "# # Save the accuracy score to the specified filename\n",
    "# with open(os.path.join(directory, filename), 'w') as file:\n",
    "#     file.write(str(accuracy))\n"
   ]
  },
  {
   "cell_type": "code",
   "execution_count": null,
   "id": "a8206399-4d46-461a-bc41-e5e04aa43ad9",
   "metadata": {},
   "outputs": [],
   "source": []
  }
 ],
 "metadata": {
  "kernelspec": {
   "display_name": "Python 3 (ipykernel)",
   "language": "python",
   "name": "python3"
  },
  "language_info": {
   "codemirror_mode": {
    "name": "ipython",
    "version": 3
   },
   "file_extension": ".py",
   "mimetype": "text/x-python",
   "name": "python",
   "nbconvert_exporter": "python",
   "pygments_lexer": "ipython3",
   "version": "3.11.6"
  }
 },
 "nbformat": 4,
 "nbformat_minor": 5
}
